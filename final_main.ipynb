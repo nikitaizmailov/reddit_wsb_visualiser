{
 "metadata": {
  "language_info": {
   "codemirror_mode": {
    "name": "ipython",
    "version": 3
   },
   "file_extension": ".py",
   "mimetype": "text/x-python",
   "name": "python",
   "nbconvert_exporter": "python",
   "pygments_lexer": "ipython3",
   "version": "3.8.3"
  },
  "orig_nbformat": 4,
  "kernelspec": {
   "name": "python3",
   "display_name": "Python 3.8.3 64-bit ('base': conda)"
  },
  "interpreter": {
   "hash": "606d4554ea2cc75e0dffd9074a5b3a8f86a529bae52002636ce4eb692beb0dcc"
  }
 },
 "nbformat": 4,
 "nbformat_minor": 2,
 "cells": [
  {
   "source": [
    "# AIMS OF THE PROJECT:\n",
    "# - Top Stock Mentions Today (Tickers), Last 2 days, 5 days, 7 Days, Custom number. Provide it in the list or barchart\n",
    "# - Print out Comments that mentioned these tickers or just for one ticker\n",
    "# - Provide visualisation in form of a graph\n",
    "# - Create a Jupyter Notebooko tool with buttons that allows non coder to do such tasks.\n"
   ],
   "cell_type": "code",
   "metadata": {},
   "execution_count": null,
   "outputs": []
  },
  {
   "cell_type": "code",
   "execution_count": null,
   "metadata": {},
   "outputs": [],
   "source": [
    "from datetime import datetime, date, time\n",
    "import re\n",
    "\n",
    "import pandas as pd\n",
    "import numpy as np\n",
    "\n",
    "import json\n",
    "import praw\n",
    "import requests\n",
    "\n",
    "import jupyter"
   ]
  },
  {
   "cell_type": "code",
   "execution_count": null,
   "metadata": {},
   "outputs": [],
   "source": [
    "# Jupyter settings for optimizing the output to see without restrictions on view limit\n",
    "jupyter.textOutputLimit = 0"
   ]
  },
  {
   "cell_type": "code",
   "execution_count": null,
   "metadata": {},
   "outputs": [],
   "source": [
    "# Reading JSON file with credentials to access Reddit API Wrapper\n",
    "creds = 'client_secrets.json'\n",
    "\n",
    "with open(creds) as f:\n",
    "    data_creds = json.load(f)\n",
    "\n",
    "data_creds"
   ]
  },
  {
   "cell_type": "code",
   "execution_count": null,
   "metadata": {},
   "outputs": [],
   "source": [
    "# Creating an instance from Reddit class to interact with Reddit API\n",
    "\n",
    "reddit = praw.Reddit(\n",
    "    client_id=data_creds['client_id'],\n",
    "    client_secret=data_creds['client_secret'],\n",
    "    user_agent=data_creds['user_agent'],\n",
    "    redirect_uri=data_creds['redirect_uri'],\n",
    "    refresh_token=data_creds['refresh_token']\n",
    ")\n"
   ]
  },
  {
   "source": [
    "# Choosing a subreddit to analyse\n",
    "subr = 'wallstreetbets'\n",
    "\n",
    "# Obtaining a instance of this class for subreddit\n",
    "subreddit = reddit.subreddit(subr)\n",
    "\n",
    "dir(subreddit)"
   ],
   "cell_type": "code",
   "metadata": {},
   "execution_count": null,
   "outputs": []
  },
  {
   "cell_type": "code",
   "execution_count": null,
   "metadata": {
    "tags": []
   },
   "outputs": [],
   "source": [
    "from praw.models import MoreComments\n",
    "\n",
    "# Obtaining top 10 hottest posts of today on chosen subreddit\n",
    "top_10_hottest = subreddit.hot(limit=10)\n",
    "boolean = True\n",
    "\n",
    "# Obtaining for each post 20 recent comments.\n",
    "for post in top_10_hottest:\n",
    "    print('\\033[1m Title: {0} \\033[0m \\n'.format(post.title))\n",
    "\n",
    "    for num, comm in enumerate(post.comments):\n",
    "        if num < 20:\n",
    "            if isinstance(comm, MoreComments):\n",
    "                print('\\033[1m {0}) MoreComments:\\033[0m {1}'.format(str(num), str(comm.comments()[0:100])))\n",
    "                continue\n",
    "            # Max 100 characters per comment\n",
    "            print('\\033[1m {0}) Comment:\\033[0m {1}'.format(str(num), comm.body[0:100]))\n",
    "        else:\n",
    "            break\n",
    "    print('\\n')\n"
   ]
  },
  {
   "cell_type": "code",
   "execution_count": null,
   "metadata": {},
   "outputs": [],
   "source": [
    "# Obtaining 100 newest comments of today on chosen subreddit, not on specific submission\n",
    "\n",
    "subr2 = 'VIAC'\n",
    "subr = 'wallstreetbets'\n",
    "\n",
    "subreddit2 = reddit.subreddit(subr2)\n",
    "\n",
    "subreddit_wsb = reddit.subreddit(subr)\n",
    "\n",
    "# for Obtaining new post titles\n",
    "subreddit2_new = subreddit2.new()\n",
    "\n",
    "# obtaining newest comments for the subreddit regardless of the submission\n",
    "subr_comments_new = subreddit_wsb.comments()\n",
    "\n",
    "# for obtaining newly posted comments regardless of the submission\n",
    "subreddit2_comments = subreddit2.comments()\n",
    "\n",
    "\n",
    "\n",
    "#for num, comment in enumerate(subreddit2_comments):\n",
    "#    print(\"\"\" \n",
    "#        {0}) Comment: {1}\n",
    "#        URL: {2}\n",
    "#        Author: {3}\n",
    "#        \"\"\".format(str(num), comment.body, comment.link_url, comment.author))\n",
    "\n",
    "for num, comment in enumerate(subr_comments_new):\n",
    "    print(\"\"\" \n",
    "        {0}) Comment: {1}\n",
    "        URL: {2}\n",
    "        Author: {3}\n",
    "        \"\"\".format(str(num), comment.body, comment.link_url, comment.author))\n",
    "\n"
   ]
  },
  {
   "cell_type": "code",
   "execution_count": null,
   "metadata": {},
   "outputs": [],
   "source": [
    "# Code to search for specific patterns via Regex library\n",
    "url_submission = 'https://www.reddit.com/r/wallstreetbets/comments/ob59hl/what_are_your_moves_tomorrow_july_01_2021/'\n",
    "submission_post = reddit.submission(url=url_submission)\n",
    "\n",
    "pattern = '\\wiacom|[Vv][Ii][Aa][Cc]'\n",
    "pattern2 = '[Aa][Mm][Cc]'\n",
    "\n",
    "# Converting a pattern into a regular expression object\n",
    "reg_exp2 = re.compile(pattern)\n",
    "\n",
    "# array to store matched comments that mentioned ViacomCBS ticker/name\n",
    "mentioned = []\n",
    "\n",
    "for num, comment in enumerate(submission_post.comments):\n",
    "    if isinstance(comment, MoreComments):\n",
    "        for comm_in in comment.comments():\n",
    "            print('\\033[1m MoreComments:\\033[0m {0}'.format(comm_in.body))\n",
    "            #print('\\033[1m {0}) MoreComments:\\033[0m {1}'.format(str(num), comment.replace_more_comments().comment))\n",
    "        continue\n",
    "    result = reg_exp2.search(comment.body)\n",
    "    if result:\n",
    "        mentioned.append(comment.body)\n",
    "    print('\\033[1m {0}) Comment:\\033[0m {1}'.format(str(num), comment.body[0:100]))\n"
   ]
  },
  {
   "cell_type": "code",
   "execution_count": null,
   "metadata": {},
   "outputs": [],
   "source": [
    "mentioned"
   ]
  },
  {
   "cell_type": "code",
   "execution_count": null,
   "metadata": {},
   "outputs": [],
   "source": [
    "last_update = mentioned.copy()\n",
    "last_update"
   ]
  },
  {
   "cell_type": "code",
   "execution_count": null,
   "metadata": {},
   "outputs": [],
   "source": [
    "len(submission_post.comments)"
   ]
  },
  {
   "cell_type": "code",
   "execution_count": null,
   "metadata": {},
   "outputs": [],
   "source": []
  },
  {
   "cell_type": "code",
   "execution_count": null,
   "metadata": {},
   "outputs": [],
   "source": []
  },
  {
   "cell_type": "code",
   "execution_count": null,
   "metadata": {},
   "outputs": [],
   "source": []
  }
 ]
}